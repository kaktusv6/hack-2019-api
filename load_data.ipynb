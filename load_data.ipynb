{
  "nbformat": 4,
  "nbformat_minor": 0,
  "metadata": {
    "colab": {
      "name": "Untitled1.ipynb",
      "version": "0.3.2",
      "provenance": []
    },
    "kernelspec": {
      "name": "python3",
      "display_name": "Python 3"
    }
  },
  "cells": [
    {
      "cell_type": "code",
      "metadata": {
        "id": "cvji1Ju3cvaF",
        "colab_type": "code",
        "colab": {
          "base_uri": "https://localhost:8080/",
          "height": 377
        },
        "outputId": "276ba897-a5ba-4a32-9710-5df7a5197f02"
      },
      "source": [
        "!pip3 install pymysql\n",
        "!pip3 install pytrends"
      ],
      "execution_count": 2,
      "outputs": [
        {
          "output_type": "stream",
          "text": [
            "Collecting pymysql\n",
            "\u001b[?25l  Downloading https://files.pythonhosted.org/packages/ed/39/15045ae46f2a123019aa968dfcba0396c161c20f855f11dea6796bcaae95/PyMySQL-0.9.3-py2.py3-none-any.whl (47kB)\n",
            "\u001b[K     |████████████████████████████████| 51kB 2.4MB/s \n",
            "\u001b[?25hInstalling collected packages: pymysql\n",
            "Successfully installed pymysql-0.9.3\n",
            "Collecting pytrends\n",
            "  Downloading https://files.pythonhosted.org/packages/c7/ca/bf9ed973416290270c9aea8f8b3cf7e75a2280918838a4bea4067019ef11/pytrends-4.6.0-py3-none-any.whl\n",
            "Requirement already satisfied: pandas in /usr/local/lib/python3.6/dist-packages (from pytrends) (0.24.2)\n",
            "Requirement already satisfied: requests in /usr/local/lib/python3.6/dist-packages (from pytrends) (2.21.0)\n",
            "Requirement already satisfied: lxml in /usr/local/lib/python3.6/dist-packages (from pytrends) (4.2.6)\n",
            "Requirement already satisfied: python-dateutil>=2.5.0 in /usr/local/lib/python3.6/dist-packages (from pandas->pytrends) (2.5.3)\n",
            "Requirement already satisfied: numpy>=1.12.0 in /usr/local/lib/python3.6/dist-packages (from pandas->pytrends) (1.16.4)\n",
            "Requirement already satisfied: pytz>=2011k in /usr/local/lib/python3.6/dist-packages (from pandas->pytrends) (2018.9)\n",
            "Requirement already satisfied: certifi>=2017.4.17 in /usr/local/lib/python3.6/dist-packages (from requests->pytrends) (2019.3.9)\n",
            "Requirement already satisfied: urllib3<1.25,>=1.21.1 in /usr/local/lib/python3.6/dist-packages (from requests->pytrends) (1.24.3)\n",
            "Requirement already satisfied: idna<2.9,>=2.5 in /usr/local/lib/python3.6/dist-packages (from requests->pytrends) (2.8)\n",
            "Requirement already satisfied: chardet<3.1.0,>=3.0.2 in /usr/local/lib/python3.6/dist-packages (from requests->pytrends) (3.0.4)\n",
            "Requirement already satisfied: six>=1.5 in /usr/local/lib/python3.6/dist-packages (from python-dateutil>=2.5.0->pandas->pytrends) (1.12.0)\n",
            "Installing collected packages: pytrends\n",
            "Successfully installed pytrends-4.6.0\n"
          ],
          "name": "stdout"
        }
      ]
    },
    {
      "cell_type": "code",
      "metadata": {
        "id": "OhuDbXiCcuOA",
        "colab_type": "code",
        "colab": {}
      },
      "source": [
        "import pymysql\n",
        "from pymysql.cursors import DictCursor\n",
        "import pandas as pd\n",
        "\n",
        "\n",
        "connection = pymysql.connect(\n",
        "    host='kaktusv6.beget.tech',\n",
        "    user='kaktusv6_hack',\n",
        "    password='Mamont500',\n",
        "    db='kaktusv6_hack',\n",
        "    charset='utf8mb4',\n",
        "    cursorclass=DictCursor\n",
        ")\n",
        "\n",
        "def execute_query(query):\n",
        "    with connection.cursor() as cursor:\n",
        "        cursor.execute(query)\n",
        "        return cursor.fetchall()\n",
        "\n",
        "\n",
        "def get_symptoms():\n",
        "    return execute_query(\"select * from symptoms\")\n",
        "\n",
        "\n",
        "def get_regions():\n",
        "    return execute_query(\"select google_name, id from regions\")\n",
        "\n",
        "\n",
        "def get_diseases():\n",
        "    return execute_query(\"select * from diseases\")\n",
        "\n",
        "def insert(date, region_id, symptom_id, fact_interest):\n",
        "    temp_insert = f\"\"\"\n",
        "                        INSERT INTO `interest`(`region_id`, `symptom_id`, `fact_interest`, `date`)\n",
        "                         VALUES ({region_id}, {symptom_id}, {fact_interest}, '{date}')\n",
        "                \"\"\"\n",
        "    execute_query(temp_insert)\n"
      ],
      "execution_count": 0,
      "outputs": []
    },
    {
      "cell_type": "code",
      "metadata": {
        "id": "_u3_cHVhclQL",
        "colab_type": "code",
        "colab": {}
      },
      "source": [
        "# from connect_db import get_regions, get_symptoms, insert\n",
        "import pandas as pd\n",
        "from pytrends.request import TrendReq\n",
        "import numpy as np\n",
        "\n",
        "pytrends = TrendReq(hl='ru-RU', tz=360)\n",
        "\n",
        "kw_list = [\"кашель\", \"насморк\", \"высокая температура\"]\n",
        "def google_trends(kw=None, year_start=2018, month_start=5, year_old=2019, month_old=5, region='RU'):\n",
        "    data = pytrends.get_historical_interest(kw, year_start=year_start, month_start=month_start,\n",
        "                                                 day_start=1, hour_start=0, year_end=year_old,\n",
        "                                                 month_end=month_old, day_end=1, hour_end=0,\n",
        "                                                 geo=region, cat=45)\n",
        "    return data\n",
        "\n",
        "\n",
        "def moving_average(a, n=3) :\n",
        "    ret = np.cumsum(a, dtype=float)\n",
        "    ret[n:] = ret[n:] - ret[:-n]\n",
        "    return ret[n - 1:] / n\n",
        "\n",
        "\n",
        "# def interest_processing(date, region_id, symptom_id, fact_interest):\n",
        "#     pass\n",
        "\n",
        "\n",
        "def google_process():\n",
        "    # diseases = pd.DataFrame(get_diseases())\n",
        "    symptoms = pd.DataFrame(get_symptoms())\n",
        "    regions = pd.DataFrame(get_regions())\n",
        "\n",
        "    kw_list = list(symptoms.name.values)\n",
        "\n",
        "    for region, region_id in regions.values:\n",
        "        data = google_trends(kw=kw_list,  region=region)\n",
        "        date_day = data.rolling(window=24).mean().iloc[::24].dropna()\n",
        "\n",
        "        for sympt in date_day.columns:\n",
        "            sympt_id = symptoms[symptoms.name == sympt].id.values[0]\n",
        "            for row in date_day.iterows():\n",
        "\n",
        "                insert(date=row.index, region_id=region_id, symptom_id=sympt_id, fact_interest=row[sympt])\n",
        "\n",
        "\n",
        "\n"
      ],
      "execution_count": 0,
      "outputs": []
    },
    {
      "cell_type": "code",
      "metadata": {
        "id": "gAktx5R-dHRE",
        "colab_type": "code",
        "colab": {}
      },
      "source": [
        "symptoms = pd.DataFrame(get_symptoms())\n",
        "regions = pd.DataFrame(get_regions())"
      ],
      "execution_count": 0,
      "outputs": []
    },
    {
      "cell_type": "code",
      "metadata": {
        "id": "XTDD98KUdf3W",
        "colab_type": "code",
        "colab": {
          "base_uri": "https://localhost:8080/",
          "height": 173
        },
        "outputId": "ab480e57-27c6-4095-9130-a6500bd29f0e"
      },
      "source": [
        "regions"
      ],
      "execution_count": 96,
      "outputs": [
        {
          "output_type": "execute_result",
          "data": {
            "text/html": [
              "<div>\n",
              "<style scoped>\n",
              "    .dataframe tbody tr th:only-of-type {\n",
              "        vertical-align: middle;\n",
              "    }\n",
              "\n",
              "    .dataframe tbody tr th {\n",
              "        vertical-align: top;\n",
              "    }\n",
              "\n",
              "    .dataframe thead th {\n",
              "        text-align: right;\n",
              "    }\n",
              "</style>\n",
              "<table border=\"1\" class=\"dataframe\">\n",
              "  <thead>\n",
              "    <tr style=\"text-align: right;\">\n",
              "      <th></th>\n",
              "      <th>google_name</th>\n",
              "      <th>id</th>\n",
              "    </tr>\n",
              "  </thead>\n",
              "  <tbody>\n",
              "    <tr>\n",
              "      <th>0</th>\n",
              "      <td>RU-PRI</td>\n",
              "      <td>1</td>\n",
              "    </tr>\n",
              "    <tr>\n",
              "      <th>1</th>\n",
              "      <td>RU-MOW</td>\n",
              "      <td>2</td>\n",
              "    </tr>\n",
              "    <tr>\n",
              "      <th>2</th>\n",
              "      <td>RU-KHA</td>\n",
              "      <td>3</td>\n",
              "    </tr>\n",
              "    <tr>\n",
              "      <th>3</th>\n",
              "      <td>RU-SAK</td>\n",
              "      <td>4</td>\n",
              "    </tr>\n",
              "  </tbody>\n",
              "</table>\n",
              "</div>"
            ],
            "text/plain": [
              "  google_name  id\n",
              "0      RU-PRI   1\n",
              "1      RU-MOW   2\n",
              "2      RU-KHA   3\n",
              "3      RU-SAK   4"
            ]
          },
          "metadata": {
            "tags": []
          },
          "execution_count": 96
        }
      ]
    },
    {
      "cell_type": "code",
      "metadata": {
        "id": "tQ64ylTmdTEi",
        "colab_type": "code",
        "colab": {
          "base_uri": "https://localhost:8080/",
          "height": 34
        },
        "outputId": "aa59f99b-2b50-46ee-aefd-09c5652a32c9"
      },
      "source": [
        "kw_list = list(symptoms.name.values)\n",
        "kw_list"
      ],
      "execution_count": 98,
      "outputs": [
        {
          "output_type": "execute_result",
          "data": {
            "text/plain": [
              "['насморк', 'кашель', 'высокая температура', 'лекарства']"
            ]
          },
          "metadata": {
            "tags": []
          },
          "execution_count": 98
        }
      ]
    },
    {
      "cell_type": "code",
      "metadata": {
        "id": "DkKe6c7dd1nx",
        "colab_type": "code",
        "colab": {
          "base_uri": "https://localhost:8080/",
          "height": 34
        },
        "outputId": "d55438f4-a937-4833-d4c2-aec3bf8f4f04"
      },
      "source": [
        "data_year2 = pytrends.get_historical_interest(kw_list, year_start=2018, month_start=5, \n",
        "                                 day_start=1, hour_start=0, year_end=2019,\n",
        "                                 month_end=6, day_end=1, hour_end=0,\n",
        "                                 geo='RU-SAK', cat=45)"
      ],
      "execution_count": 99,
      "outputs": [
        {
          "output_type": "stream",
          "text": [
            "The request failed: Google returned a response with code 500.\n"
          ],
          "name": "stdout"
        }
      ]
    },
    {
      "cell_type": "code",
      "metadata": {
        "id": "0Oqy3ykxmdil",
        "colab_type": "code",
        "colab": {
          "base_uri": "https://localhost:8080/",
          "height": 34
        },
        "outputId": "0184451c-282d-4b33-e2df-a31a01fe2c63"
      },
      "source": [
        "data_year2.shape[0]"
      ],
      "execution_count": 100,
      "outputs": [
        {
          "output_type": "execute_result",
          "data": {
            "text/plain": [
              "9392"
            ]
          },
          "metadata": {
            "tags": []
          },
          "execution_count": 100
        }
      ]
    },
    {
      "cell_type": "code",
      "metadata": {
        "id": "tm56ahnFdYvb",
        "colab_type": "code",
        "colab": {}
      },
      "source": [
        "# data = google_trends(kw=kw_list,  region='RU-PRI')\n",
        "date_day = data_year2.rolling(window=24).mean().iloc[::24].dropna()"
      ],
      "execution_count": 0,
      "outputs": []
    },
    {
      "cell_type": "code",
      "metadata": {
        "id": "tz2iBQ7RvFIy",
        "colab_type": "code",
        "colab": {}
      },
      "source": [
        "# date_day2 = date_day.rolling(window=250).mean().dropna()"
      ],
      "execution_count": 0,
      "outputs": []
    },
    {
      "cell_type": "code",
      "metadata": {
        "id": "QBBgGA4YvK36",
        "colab_type": "code",
        "colab": {}
      },
      "source": [
        "# date_day2.iloc[0:1000]"
      ],
      "execution_count": 0,
      "outputs": []
    },
    {
      "cell_type": "code",
      "metadata": {
        "id": "XHAcNTpxf6NC",
        "colab_type": "code",
        "colab": {}
      },
      "source": [
        "def insert(date, region_id, symptom_id, fact_interest):\n",
        "    temp_insert = f\"\"\"\n",
        "                        INSERT INTO `interest`(`region_id`, `symptom_id`, `fact_interest`, `date`)\n",
        "                         VALUES ({region_id}, {symptom_id}, {fact_interest}, '{date}')\n",
        "                \"\"\"\n",
        "    return(temp_insert)"
      ],
      "execution_count": 0,
      "outputs": []
    },
    {
      "cell_type": "code",
      "metadata": {
        "id": "GR25jmn3E488",
        "colab_type": "code",
        "colab": {}
      },
      "source": [
        "date_day = date_day.drop('isPartial', axis=1)"
      ],
      "execution_count": 0,
      "outputs": []
    },
    {
      "cell_type": "code",
      "metadata": {
        "id": "eYWLl8pAFDKo",
        "colab_type": "code",
        "colab": {
          "base_uri": "https://localhost:8080/",
          "height": 34
        },
        "outputId": "72d2b603-5e3f-4ee4-8f28-9a4a862c5ac3"
      },
      "source": [
        "date_day.columns"
      ],
      "execution_count": 105,
      "outputs": [
        {
          "output_type": "execute_result",
          "data": {
            "text/plain": [
              "Index(['насморк', 'кашель', 'высокая температура', 'лекарства'], dtype='object')"
            ]
          },
          "metadata": {
            "tags": []
          },
          "execution_count": 105
        }
      ]
    },
    {
      "cell_type": "code",
      "metadata": {
        "id": "I3AEXsDadeGy",
        "colab_type": "code",
        "colab": {
          "base_uri": "https://localhost:8080/",
          "height": 51
        },
        "outputId": "b353df62-65e4-4b44-a781-e719eecc2099"
      },
      "source": [
        "connection = pymysql.connect(\n",
        "    host='kaktusv6.beget.tech',\n",
        "    user='kaktusv6_hack',\n",
        "    password='Mamont500',\n",
        "    db='kaktusv6_hack',\n",
        "    charset='utf8mb4',\n",
        "    cursorclass=DictCursor\n",
        ")\n",
        "\n",
        "\n",
        "with connection.cursor() as cursor:   \n",
        "\n",
        "  for sympt in date_day.columns:\n",
        "#   sympt_id = 2\n",
        "#     print(sympt)\n",
        "    sympt_id = symptoms[symptoms.name == sympt].id.values[0]\n",
        "    for row in date_day.iterrows():\n",
        "    #     print(row[0].date())\n",
        "          cursor.execute(insert(date=row[0].date(), region_id=4, symptom_id=sympt_id, fact_interest=row[1][0]))\n",
        "connection.commit()"
      ],
      "execution_count": 107,
      "outputs": [
        {
          "output_type": "stream",
          "text": [
            "/usr/local/lib/python3.6/dist-packages/pymysql/cursors.py:329: Warning: (1364, \"Field 'id' doesn't have a default value\")\n",
            "  self._do_get_result()\n"
          ],
          "name": "stderr"
        }
      ]
    },
    {
      "cell_type": "code",
      "metadata": {
        "id": "O8QQbiDIhilg",
        "colab_type": "code",
        "colab": {
          "base_uri": "https://localhost:8080/",
          "height": 51
        },
        "outputId": "0fc61ac6-a409-43f3-ac37-d8c2ce9dd79e"
      },
      "source": [
        "connection = pymysql.connect(\n",
        "    host='kaktusv6.beget.tech',\n",
        "    user='kaktusv6_hack',\n",
        "    password='Mamont500',\n",
        "    db='kaktusv6_hack',\n",
        "    charset='utf8mb4',\n",
        "    cursorclass=DictCursor\n",
        ")\n",
        "\n",
        "\n",
        "with connection.cursor() as cursor:   \n",
        "    \n",
        "  sympt_id = 4\n",
        "\n",
        "  for row in date_day.iterrows():\n",
        "\n",
        "        cursor.execute(insert(date=row[0].date(), region_id=1, symptom_id=sympt_id, fact_interest=row[1][0]))\n",
        "        \n",
        "connection.commit()"
      ],
      "execution_count": 91,
      "outputs": [
        {
          "output_type": "stream",
          "text": [
            "/usr/local/lib/python3.6/dist-packages/pymysql/cursors.py:329: Warning: (1364, \"Field 'id' doesn't have a default value\")\n",
            "  self._do_get_result()\n"
          ],
          "name": "stderr"
        }
      ]
    },
    {
      "cell_type": "code",
      "metadata": {
        "id": "ONLExMr1g1-4",
        "colab_type": "code",
        "colab": {
          "base_uri": "https://localhost:8080/",
          "height": 34
        },
        "outputId": "14a6cb0d-8250-4099-c64d-f6c237244954"
      },
      "source": [
        "date_day.columns"
      ],
      "execution_count": 56,
      "outputs": [
        {
          "output_type": "execute_result",
          "data": {
            "text/plain": [
              "Index(['насморк', 'кашель', 'высокая температура', 'isPartial'], dtype='object')"
            ]
          },
          "metadata": {
            "tags": []
          },
          "execution_count": 56
        }
      ]
    },
    {
      "cell_type": "code",
      "metadata": {
        "id": "0yVwNUZUEevp",
        "colab_type": "code",
        "colab": {
          "base_uri": "https://localhost:8080/",
          "height": 34
        },
        "outputId": "29524ac5-7790-4b19-b346-c1a1d3cea9c9"
      },
      "source": [
        "symptoms[symptoms.name == date_day.columns[2]].id.values[0]"
      ],
      "execution_count": 61,
      "outputs": [
        {
          "output_type": "execute_result",
          "data": {
            "text/plain": [
              "3"
            ]
          },
          "metadata": {
            "tags": []
          },
          "execution_count": 61
        }
      ]
    }
  ]
}